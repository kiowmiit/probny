{
  "nbformat": 4,
  "nbformat_minor": 0,
  "metadata": {
    "colab": {
      "provenance": [],
      "authorship_tag": "ABX9TyPI+gNaEosG4aRpH6+bXOen",
      "include_colab_link": true
    },
    "kernelspec": {
      "name": "python3",
      "display_name": "Python 3"
    },
    "language_info": {
      "name": "python"
    }
  },
  "cells": [
    {
      "cell_type": "markdown",
      "metadata": {
        "id": "view-in-github",
        "colab_type": "text"
      },
      "source": [
        "<a href=\"https://colab.research.google.com/github/kiowmiit/probny/blob/master/GLA05_InfTech_Wprowadzenie_do_Informatyki_Technicznej_Lab03.ipynb\" target=\"_parent\"><img src=\"https://colab.research.google.com/assets/colab-badge.svg\" alt=\"Open In Colab\"/></a>"
      ]
    },
    {
      "cell_type": "markdown",
      "source": [
        "Pętla for:"
      ],
      "metadata": {
        "id": "VvDYcTxi799j"
      }
    },
    {
      "cell_type": "code",
      "execution_count": 1,
      "metadata": {
        "colab": {
          "base_uri": "https://localhost:8080/"
        },
        "id": "H_-ueuk17ZqT",
        "outputId": "8f1cc1fb-b378-419d-f7b2-5aae12c864a8"
      },
      "outputs": [
        {
          "output_type": "stream",
          "name": "stdout",
          "text": [
            "25\n"
          ]
        }
      ],
      "source": [
        "for i in range(5):\n",
        "    print(\"To jest iteracja nr\", i)\n",
        "for i in range(5):\n",
        "    print(\"To jest iteracja nr\", i)"
      ]
    },
    {
      "cell_type": "markdown",
      "source": [
        "Pętla while:"
      ],
      "metadata": {
        "id": "zKDk6Z0v8nzB"
      }
    },
    {
      "cell_type": "code",
      "source": [
        "x = 0\n",
        "while x < 5:\n",
        "    print(\"x =\", x)\n",
        "    x += 1\n",
        "else: # instrukcja opcjonalna\n",
        "  print(\"Petla zakonczona\")"
      ],
      "metadata": {
        "id": "-gW1ZQFl8prh"
      },
      "execution_count": null,
      "outputs": []
    },
    {
      "cell_type": "markdown",
      "source": [
        "Przykłady break i Continue"
      ],
      "metadata": {
        "id": "VFvalPRE8sB5"
      }
    },
    {
      "cell_type": "code",
      "source": [
        "for i in range(10):\n",
        "    if i == 5:\n",
        "        break\n",
        "    if i % 2 == 0:\n",
        "        continue\n",
        "    print(i)\n"
      ],
      "metadata": {
        "id": "KqIk7fKR8-AJ"
      },
      "execution_count": null,
      "outputs": []
    },
    {
      "cell_type": "markdown",
      "source": [
        "# Przykłady funkcji:\n",
        "Funkcja bez parametrów"
      ],
      "metadata": {
        "id": "sdWEF8L49NHJ"
      }
    },
    {
      "cell_type": "code",
      "source": [
        "def przywitaj():\n",
        "    print(\"Cześć! Miło Cię widzieć.\")\n"
      ],
      "metadata": {
        "id": "kW2-lpJZ9apS"
      },
      "execution_count": null,
      "outputs": []
    },
    {
      "cell_type": "markdown",
      "source": [
        "Funkcja z parametrami:"
      ],
      "metadata": {
        "id": "m4xUhWI39b1x"
      }
    },
    {
      "cell_type": "code",
      "source": [
        "def dodaj(a, b):\n",
        "    return a + b\n",
        "wynik = dodaj(3, 7)\n",
        "print(\"Suma:\", wynik)\n"
      ],
      "metadata": {
        "id": "9TciI2D79gQZ"
      },
      "execution_count": null,
      "outputs": []
    },
    {
      "cell_type": "markdown",
      "source": [
        "Funkcja z parametrami domyślnymi:"
      ],
      "metadata": {
        "id": "t9YHJT7w9l2x"
      }
    },
    {
      "cell_type": "code",
      "source": [
        "def przywitaj(imie=\"Gościu\"):\n",
        "    print(\"Cześć,\", imie)\n",
        "przywitaj()\n",
        "przywitaj(\"Anna\")\n"
      ],
      "metadata": {
        "colab": {
          "base_uri": "https://localhost:8080/"
        },
        "id": "a7JQN3-o9oU5",
        "outputId": "6065aad3-d5f5-4299-e9c3-8cbbe022f523"
      },
      "execution_count": 3,
      "outputs": [
        {
          "output_type": "stream",
          "name": "stdout",
          "text": [
            "Cześć, Gościu\n",
            "Cześć, Anna\n"
          ]
        }
      ]
    },
    {
      "cell_type": "markdown",
      "source": [
        "# Funkcje lambda\n",
        "Funkcja lambda w Pythonie to tzw. funkcja anonimowa, czyli taka, która:\n",
        "*   nie ma nazwy (chyba że przypiszemy ją do zmiennej),\n",
        "*   może być zdefiniowana w jednej linii,\n",
        "*   służy do wykonywania prostych operacji.\n",
        "\n",
        "Funkcja lambda ma postać:\n",
        "\n",
        "`lambda [argumenty]: [wyrażenie]`\n",
        "\n",
        "**Cechy funkcji lambda**\n",
        "*   Mogą przyjmować dowolną liczbę argumentów, ale tylko jedno wyrażenie.\n",
        "*   Zawsze zwracają wynik tego wyrażenia.\n",
        "*   Najczęściej używa się ich w miejscach, gdzie potrzebna jest prosta funkcja pomocnicza na chwilę, np. w sortowaniu, filtrowaniu czy mapowaniu danych.\n",
        "\n",
        "### **Przykłady użycia funkcji lambda**\n",
        "\n",
        "\n",
        "1.   Podstawowe użycie\n",
        "\n"
      ],
      "metadata": {
        "id": "AAOefogp9u1p"
      }
    },
    {
      "cell_type": "code",
      "source": [
        "kwadrat = lambda x: x**2\n",
        "print(kwadrat(5))"
      ],
      "metadata": {
        "id": "EWewAdBb--w6"
      },
      "execution_count": null,
      "outputs": []
    },
    {
      "cell_type": "markdown",
      "source": [
        "2.   Funkcja z kilkoma argumentami"
      ],
      "metadata": {
        "id": "tcLuQtP8_Dqa"
      }
    },
    {
      "cell_type": "code",
      "source": [
        "suma = lambda a, b: a + b\n",
        "print(suma(3, 7))"
      ],
      "metadata": {
        "id": "ck5oUKwy_EHK"
      },
      "execution_count": null,
      "outputs": []
    },
    {
      "cell_type": "markdown",
      "source": [
        "3.   Użycie z sorted()"
      ],
      "metadata": {
        "id": "Q9riwKYw_MtR"
      }
    },
    {
      "cell_type": "code",
      "source": [
        "liczby = [(1, 5), (2, 2), (3, 8)]\n",
        "# sortowanie po drugim elemencie krotki\n",
        "posortowane = sorted(liczby, key=lambda x: x[1])\n",
        "print(posortowane)"
      ],
      "metadata": {
        "colab": {
          "base_uri": "https://localhost:8080/"
        },
        "id": "zxj7p-dx_TGx",
        "outputId": "ce96e9e9-8ed1-48e7-8d54-99e85022864a"
      },
      "execution_count": 4,
      "outputs": [
        {
          "output_type": "stream",
          "name": "stdout",
          "text": [
            "[(2, 2), (1, 5), (3, 8)]\n"
          ]
        }
      ]
    },
    {
      "cell_type": "markdown",
      "source": [
        "4.   Użycie z map()"
      ],
      "metadata": {
        "id": "41b-6b3D_YEx"
      }
    },
    {
      "cell_type": "code",
      "source": [
        "liczby = [1, 2, 3, 4]\n",
        "kwadraty = list(map(lambda x: x**2, liczby))\n",
        "print(kwadraty)"
      ],
      "metadata": {
        "id": "06wdsiC__cEK"
      },
      "execution_count": null,
      "outputs": []
    },
    {
      "cell_type": "markdown",
      "source": [
        "5.   Użycie z filter()"
      ],
      "metadata": {
        "id": "xVrxuSU2_lTb"
      }
    },
    {
      "cell_type": "code",
      "source": [
        "liczby = [1, 2, 3, 4, 5, 6]\n",
        "parzyste = list(filter(lambda x: x % 2 == 0, liczby))\n",
        "print(parzyste)"
      ],
      "metadata": {
        "id": "tOb33dH1_wRJ"
      },
      "execution_count": null,
      "outputs": []
    }
  ]
}